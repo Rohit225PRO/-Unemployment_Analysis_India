{
 "cells": [
  {
   "cell_type": "markdown",
   "metadata": {},
   "source": [
    "# 📊 Unemployment Analysis in India"
   ]
  },
  {
   "cell_type": "code",
   "metadata": {},
   "execution_count": null,
   "outputs": [],
   "source": [
    "# Import Libraries
",
    "import pandas as pd
",
    "import numpy as np
",
    "import matplotlib.pyplot as plt
",
    "import seaborn as sns
",
    "from sklearn.model_selection import train_test_split
",
    "from sklearn.ensemble import RandomForestRegressor
",
    "from sklearn.metrics import mean_squared_error, r2_score
",
    "import joblib"
   ]
  },
  {
   "cell_type": "markdown",
   "metadata": {},
   "source": [
    "## 📥 Load the Dataset"
   ]
  },
  {
   "cell_type": "code",
   "metadata": {},
   "execution_count": null,
   "outputs": [],
   "source": [
    "# Load the dataset
",
    "df = pd.read_excel('Unemployment in India.xls')
",
    "
",
    "# Display the first few rows
",
    "df.head()"
   ]
  },
  {
   "cell_type": "markdown",
   "metadata": {},
   "source": [
    "## 📊 Data Exploration"
   ]
  },
  {
   "cell_type": "code",
   "metadata": {},
   "execution_count": null,
   "outputs": [],
   "source": [
    "# Check the dataset structure
",
    "df.info()
",
    "df.describe()
",
    "df.isnull().sum()"
   ]
  },
  {
   "cell_type": "markdown",
   "metadata": {},
   "source": [
    "## 📈 Data Visualization"
   ]
  },
  {
   "cell_type": "code",
   "metadata": {},
   "execution_count": null,
   "outputs": [],
   "source": [
    "plt.figure(figsize=(12,6))
",
    "sns.lineplot(x='Date', y='Estimated Unemployment Rate (%)', data=df)
",
    "plt.title('Unemployment Rate in India Over Time')
",
    "plt.xlabel('Date')
",
    "plt.ylabel('Unemployment Rate (%)')
",
    "plt.xticks(rotation=45)
",
    "plt.grid(True)
",
    "plt.show()"
   ]
  },
  {
   "cell_type": "markdown",
   "metadata": {},
   "source": [
    "## 🔍 Feature Engineering"
   ]
  },
  {
   "cell_type": "code",
   "metadata": {},
   "execution_count": null,
   "outputs": [],
   "source": [
    "df['Date'] = pd.to_datetime(df['Date'])
",
    "df['Month'] = df['Date'].dt.month
",
    "df['Year'] = df['Date'].dt.year
",
    "
",
    "df_encoded = pd.get_dummies(df, columns=['Region'], drop_first=True)
",
    "df_encoded.head()"
   ]
  },
  {
   "cell_type": "markdown",
   "metadata": {},
   "source": [
    "## 🤖 Model Building"
   ]
  },
  {
   "cell_type": "code",
   "metadata": {},
   "execution_count": null,
   "outputs": [],
   "source": [
    "X = df_encoded.drop(['Estimated Unemployment Rate (%)', 'Date'], axis=1)
",
    "y = df_encoded['Estimated Unemployment Rate (%)']
",
    "
",
    "X_train, X_test, y_train, y_test = train_test_split(X, y, test_size=0.2, random_state=42)
",
    "
",
    "model = RandomForestRegressor(n_estimators=100, random_state=42)
",
    "model.fit(X_train, y_train)
",
    "y_pred = model.predict(X_test)"
   ]
  },
  {
   "cell_type": "markdown",
   "metadata": {},
   "source": [
    "## 📊 Model Evaluation"
   ]
  },
  {
   "cell_type": "code",
   "metadata": {},
   "execution_count": null,
   "outputs": [],
   "source": [
    "mse = mean_squared_error(y_test, y_pred)
",
    "rmse = np.sqrt(mse)
",
    "r2 = r2_score(y_test, y_pred)
",
    "
",
    "print(f'Root Mean Squared Error: {rmse:.2f}')
",
    "print(f'R2 Score: {r2:.2f}')"
   ]
  },
  {
   "cell_type": "markdown",
   "metadata": {},
   "source": [
    "## 💾 Save the Model"
   ]
  },
  {
   "cell_type": "code",
   "metadata": {},
   "execution_count": null,
   "outputs": [],
   "source": [
    "joblib.dump(model, 'unemployment_model.pkl')
",
    "print("Model saved successfully!")"
   ]
  }
 ],
 "metadata": {
  "kernelspec": {
   "display_name": "Python 3",
   "language": "python",
   "name": "python3"
  },
  "language_info": {
   "name": "python",
   "version": "3.8"
  }
 },
 "nbformat": 4,
 "nbformat_minor": 4
}