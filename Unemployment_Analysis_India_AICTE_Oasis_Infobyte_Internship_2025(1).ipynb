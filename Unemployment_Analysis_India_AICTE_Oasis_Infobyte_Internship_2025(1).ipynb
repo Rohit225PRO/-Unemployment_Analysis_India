# Introduction

Unemployment is a critical socio-economic issue, reflecting the number of people who are jobless as a percentage of the total labor force. The COVID-19 pandemic has significantly impacted employment worldwide, with India experiencing a sharp increase in unemployment rates due to lockdowns and economic disruptions. This project aims to analyze the unemployment trends in India during the pandemic using data science techniques.

## Data Overview

The dataset used in this analysis is sourced from Kaggle: Unemployment in India. It contains monthly unemployment statistics across various Indian states, including:

- **Date:** The month and year of the recorded data.
- **Region:** The specific state or union territory.
- **Estimated Unemployment Rate (%):** The percentage of the labor force that is unemployed.
- **Estimated Employed:** The estimated number of employed individuals.
- **Estimated Labour Participation Rate (%):** The percentage of the working-age population that is part of the labor force.

## Exploratory Data Analysis

### National Unemployment Trends

- In April 2020, India's unemployment rate spiked to 24.3%, the highest since data collection began, due to nationwide lockdowns.
- The labor force participation rate (LFPR) dropped to 35.1% in the same month, indicating a significant number of individuals stopped seeking employment.
- By May 2021, during the second wave, the unemployment rate rose again to 11.4%, before gradually returning to pre-pandemic levels of around 7%.

### State-wise Analysis

- Odisha demonstrated resilience, with unemployment rates dropping to 1.6% in Sep-Dec 2020, lower than pre-COVID levels, attributed to effective employment schemes like MGNREGA.
- In contrast, states like Bihar and Uttar Pradesh saw prolonged high unemployment rates, with LFPRs declining continuously from Jan-April 2020 to Sep-Dec 2021.

### Demographic Insights

- Youth (15-24 years) faced the highest unemployment rates, primarily due to disruptions in education and entry-level job markets.
- Women experienced higher unemployment rates compared to men, highlighting gender disparities exacerbated by the pandemic.
- Scheduled Castes and other marginalized communities were disproportionately affected, with higher spikes in unemployment during lockdowns.

## Data Visualization

Utilizing Python libraries such as Matplotlib and Seaborn, the following visualizations were created:

- **Line Charts:** Depicting national and state-wise unemployment trends over time.
- **Bar Graphs:** Comparing unemployment rates across different regions and demographics.
- **Heatmaps:** Illustrating correlations between unemployment rates and other socio-economic factors.

## Machine Learning Model

To predict future unemployment trends, a Random Forest Regressor model was implemented:

- **Features:** Month, Year, Region (encoded), and other relevant socio-economic indicators.
- **Target:** Estimated Unemployment Rate (%).
- **Performance Metrics:**
  - Root Mean Squared Error (RMSE): [Insert RMSE value]
  - R² Score: [Insert R² score]

The model demonstrated [insert interpretation of performance], indicating [insert conclusion about model efficacy].

## Conclusion

The COVID-19 pandemic has had a profound impact on employment in India, with significant variations across states and demographics. While some regions like Odisha managed to mitigate the effects through proactive measures, others continue to struggle with high unemployment rates. Data science and machine learning provide valuable tools for analyzing these trends and informing policy decisions.

## References

- Unemployment in India - Kaggle
- World Bank Report on India's Labor Market
- Impact of COVID-19 on Unemployment in India
- Economic Impact of the COVID-19 Pandemic in India - Wikipedia


















{
 "cells": [
  {
   "cell_type": "markdown",
   "id": "4b76a820",
   "metadata": {},
   "source": [
    "# 📊 Unemployment Analysis in India"
   ]
  },
  {
   "cell_type": "markdown",
   "id": "65a57e4c",
   "metadata": {},
   "source": [
    "\n",
    "This project aims to analyze the unemployment rate in India, particularly focusing on the significant rise during the COVID-19 pandemic, using machine learning and data visualization techniques.\n",
    "\n",
    "This project is proudly completed as part of the **AICTE Oasis Infobyte Internship 2025**.\n",
    "    "
   ]
  },
  {
   "cell_type": "code",
   "execution_count": null,
   "id": "36c79e10",
   "metadata": {},
   "outputs": [],
   "source": [
    "\n",
    "# Import Libraries\n",
    "import pandas as pd\n",
    "import numpy as np\n",
    "import matplotlib.pyplot as plt\n",
    "import seaborn as sns\n",
    "from sklearn.model_selection import train_test_split\n",
    "from sklearn.ensemble import RandomForestRegressor\n",
    "from sklearn.metrics import mean_squared_error, r2_score\n",
    "import joblib\n",
    "    "
   ]
  },
  {
   "cell_type": "markdown",
   "id": "ed38a054",
   "metadata": {},
   "source": [
    "## 📥 Load the Dataset"
   ]
  },
  {
   "cell_type": "code",
   "execution_count": null,
   "id": "f72a1822",
   "metadata": {},
   "outputs": [],
   "source": [
    "\n",
    "# Load the dataset\n",
    "df = pd.read_excel('Unemployment in India.xls')\n",
    "\n",
    "# Display the first few rows\n",
    "df.head()\n",
    "    "
   ]
  },
  {
   "cell_type": "markdown",
   "id": "5403546d",
   "metadata": {},
   "source": [
    "## 📊 Data Exploration"
   ]
  },
  {
   "cell_type": "code",
   "execution_count": null,
   "id": "7fde7970",
   "metadata": {},
   "outputs": [],
   "source": [
    "\n",
    "# Check the dataset structure\n",
    "df.info()\n",
    "df.describe()\n",
    "df.isnull().sum()\n",
    "    "
   ]
  },
  {
   "cell_type": "markdown",
   "id": "6f220459",
   "metadata": {},
   "source": [
    "## 📈 Data Visualization"
   ]
  },
  {
   "cell_type": "code",
   "execution_count": null,
   "id": "d9f6e97a",
   "metadata": {},
   "outputs": [],
   "source": [
    "\n",
    "plt.figure(figsize=(12,6))\n",
    "sns.lineplot(x='Date', y='Estimated Unemployment Rate (%)', data=df)\n",
    "plt.title('Unemployment Rate in India Over Time')\n",
    "plt.xlabel('Date')\n",
    "plt.ylabel('Unemployment Rate (%)')\n",
    "plt.xticks(rotation=45)\n",
    "plt.grid(True)\n",
    "plt.show()\n",
    "    "
   ]
  },
  {
   "cell_type": "markdown",
   "id": "fddef281",
   "metadata": {},
   "source": [
    "## 🔍 Feature Engineering"
   ]
  },
  {
   "cell_type": "code",
   "execution_count": null,
   "id": "258c3ba0",
   "metadata": {},
   "outputs": [],
   "source": [
    "\n",
    "df['Date'] = pd.to_datetime(df['Date'])\n",
    "df['Month'] = df['Date'].dt.month\n",
    "df['Year'] = df['Date'].dt.year\n",
    "\n",
    "df_encoded = pd.get_dummies(df, columns=['Region'], drop_first=True)\n",
    "df_encoded.head()\n",
    "    "
   ]
  },
  {
   "cell_type": "markdown",
   "id": "5faf7ae1",
   "metadata": {},
   "source": [
    "## 🤖 Model Building"
   ]
  },
  {
   "cell_type": "code",
   "execution_count": null,
   "id": "27448d6a",
   "metadata": {},
   "outputs": [],
   "source": [
    "\n",
    "X = df_encoded.drop(['Estimated Unemployment Rate (%)', 'Date'], axis=1)\n",
    "y = df_encoded['Estimated Unemployment Rate (%)']\n",
    "\n",
    "X_train, X_test, y_train, y_test = train_test_split(X, y, test_size=0.2, random_state=42)\n",
    "\n",
    "model = RandomForestRegressor(n_estimators=100, random_state=42)\n",
    "model.fit(X_train, y_train)\n",
    "\n",
    "y_pred = model.predict(X_test)\n",
    "    "
   ]
  },
  {
   "cell_type": "markdown",
   "id": "80c85d7c",
   "metadata": {},
   "source": [
    "## 📊 Model Evaluation"
   ]
  },
  {
   "cell_type": "code",
   "execution_count": null,
   "id": "07ae9335",
   "metadata": {},
   "outputs": [],
   "source": [
    "\n",
    "mse = mean_squared_error(y_test, y_pred)\n",
    "rmse = np.sqrt(mse)\n",
    "r2 = r2_score(y_test, y_pred)\n",
    "\n",
    "print(f'Root Mean Squared Error: {rmse:.2f}')\n",
    "print(f'R2 Score: {r2:.2f}')\n",
    "    "
   ]
  },
  {
   "cell_type": "markdown",
   "id": "1bca6ccf",
   "metadata": {},
   "source": [
    "## 💾 Save the Model"
   ]
  },
  {
   "cell_type": "code",
   "execution_count": null,
   "id": "6e133a19",
   "metadata": {},
   "outputs": [],
   "source": [
    "\n",
    "joblib.dump(model, 'unemployment_model.pkl')\n",
    "print(\"Model saved successfully!\")\n",
    "    "
   ]
  }
 ],
 "metadata": {},
 "nbformat": 4,
 "nbformat_minor": 5
}
