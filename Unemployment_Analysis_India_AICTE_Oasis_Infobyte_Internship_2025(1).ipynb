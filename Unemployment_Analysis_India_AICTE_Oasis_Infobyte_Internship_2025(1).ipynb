{
 "cells": [
  {
   "cell_type": "markdown",
   "id": "4b76a820",
   "metadata": {},
   "source": [
    "# 📊 Unemployment Analysis in India"
   ]
  },
  {
   "cell_type": "markdown",
   "id": "65a57e4c",
   "metadata": {},
   "source": [
    "\n",
    "This project aims to analyze the unemployment rate in India, particularly focusing on the significant rise during the COVID-19 pandemic, using machine learning and data visualization techniques.\n",
    "\n",
    "This project is proudly completed as part of the **AICTE Oasis Infobyte Internship 2025**.\n",
    "    "
   ]
  },
  {
   "cell_type": "code",
   "execution_count": null,
   "id": "36c79e10",
   "metadata": {},
   "outputs": [],
   "source": [
    "\n",
    "# Import Libraries\n",
    "import pandas as pd\n",
    "import numpy as np\n",
    "import matplotlib.pyplot as plt\n",
    "import seaborn as sns\n",
    "from sklearn.model_selection import train_test_split\n",
    "from sklearn.ensemble import RandomForestRegressor\n",
    "from sklearn.metrics import mean_squared_error, r2_score\n",
    "import joblib\n",
    "    "
   ]
  },
  {
   "cell_type": "markdown",
   "id": "ed38a054",
   "metadata": {},
   "source": [
    "## 📥 Load the Dataset"
   ]
  },
  {
   "cell_type": "code",
   "execution_count": null,
   "id": "f72a1822",
   "metadata": {},
   "outputs": [],
   "source": [
    "\n",
    "# Load the dataset\n",
    "df = pd.read_excel('Unemployment in India.xls')\n",
    "\n",
    "# Display the first few rows\n",
    "df.head()\n",
    "    "
   ]
  },
  {
   "cell_type": "markdown",
   "id": "5403546d",
   "metadata": {},
   "source": [
    "## 📊 Data Exploration"
   ]
  },
  {
   "cell_type": "code",
   "execution_count": null,
   "id": "7fde7970",
   "metadata": {},
   "outputs": [],
   "source": [
    "\n",
    "# Check the dataset structure\n",
    "df.info()\n",
    "df.describe()\n",
    "df.isnull().sum()\n",
    "    "
   ]
  },
  {
   "cell_type": "markdown",
   "id": "6f220459",
   "metadata": {},
   "source": [
    "## 📈 Data Visualization"
   ]
  },
  {
   "cell_type": "code",
   "execution_count": null,
   "id": "d9f6e97a",
   "metadata": {},
   "outputs": [],
   "source": [
    "\n",
    "plt.figure(figsize=(12,6))\n",
    "sns.lineplot(x='Date', y='Estimated Unemployment Rate (%)', data=df)\n",
    "plt.title('Unemployment Rate in India Over Time')\n",
    "plt.xlabel('Date')\n",
    "plt.ylabel('Unemployment Rate (%)')\n",
    "plt.xticks(rotation=45)\n",
    "plt.grid(True)\n",
    "plt.show()\n",
    "    "
   ]
  },
  {
   "cell_type": "markdown",
   "id": "fddef281",
   "metadata": {},
   "source": [
    "## 🔍 Feature Engineering"
   ]
  },
  {
   "cell_type": "code",
   "execution_count": null,
   "id": "258c3ba0",
   "metadata": {},
   "outputs": [],
   "source": [
    "\n",
    "df['Date'] = pd.to_datetime(df['Date'])\n",
    "df['Month'] = df['Date'].dt.month\n",
    "df['Year'] = df['Date'].dt.year\n",
    "\n",
    "df_encoded = pd.get_dummies(df, columns=['Region'], drop_first=True)\n",
    "df_encoded.head()\n",
    "    "
   ]
  },
  {
   "cell_type": "markdown",
   "id": "5faf7ae1",
   "metadata": {},
   "source": [
    "## 🤖 Model Building"
   ]
  },
  {
   "cell_type": "code",
   "execution_count": null,
   "id": "27448d6a",
   "metadata": {},
   "outputs": [],
   "source": [
    "\n",
    "X = df_encoded.drop(['Estimated Unemployment Rate (%)', 'Date'], axis=1)\n",
    "y = df_encoded['Estimated Unemployment Rate (%)']\n",
    "\n",
    "X_train, X_test, y_train, y_test = train_test_split(X, y, test_size=0.2, random_state=42)\n",
    "\n",
    "model = RandomForestRegressor(n_estimators=100, random_state=42)\n",
    "model.fit(X_train, y_train)\n",
    "\n",
    "y_pred = model.predict(X_test)\n",
    "    "
   ]
  },
  {
   "cell_type": "markdown",
   "id": "80c85d7c",
   "metadata": {},
   "source": [
    "## 📊 Model Evaluation"
   ]
  },
  {
   "cell_type": "code",
   "execution_count": null,
   "id": "07ae9335",
   "metadata": {},
   "outputs": [],
   "source": [
    "\n",
    "mse = mean_squared_error(y_test, y_pred)\n",
    "rmse = np.sqrt(mse)\n",
    "r2 = r2_score(y_test, y_pred)\n",
    "\n",
    "print(f'Root Mean Squared Error: {rmse:.2f}')\n",
    "print(f'R2 Score: {r2:.2f}')\n",
    "    "
   ]
  },
  {
   "cell_type": "markdown",
   "id": "1bca6ccf",
   "metadata": {},
   "source": [
    "## 💾 Save the Model"
   ]
  },
  {
   "cell_type": "code",
   "execution_count": null,
   "id": "6e133a19",
   "metadata": {},
   "outputs": [],
   "source": [
    "\n",
    "joblib.dump(model, 'unemployment_model.pkl')\n",
    "print(\"Model saved successfully!\")\n",
    "    "
   ]
  }
 ],
 "metadata": {},
 "nbformat": 4,
 "nbformat_minor": 5
}
